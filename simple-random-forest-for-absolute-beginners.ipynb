{
 "cells": [
  {
   "cell_type": "markdown",
   "id": "3e6c6c81",
   "metadata": {
    "papermill": {
     "duration": 0.007848,
     "end_time": "2023-11-26T15:24:27.650392",
     "exception": false,
     "start_time": "2023-11-26T15:24:27.642544",
     "status": "completed"
    },
    "tags": []
   },
   "source": [
    "## Salary Prediction for Job Postings\n",
    "\n",
    "This competition is an in-class competition for the course, \"Artificial Intelligence and Machine Learning (Fall 2023)\", in Renmin University of China.\n",
    "\n",
    "## Content\n",
    "\n",
    "- [packages](#pack)\n",
    "- [load data](#load)\n",
    "- [engineering](#engineer)\n",
    "- [model](#model)\n",
    "- [submit](#sub)"
   ]
  },
  {
   "cell_type": "markdown",
   "id": "11431575",
   "metadata": {
    "papermill": {
     "duration": 0.007835,
     "end_time": "2023-11-26T15:24:27.666682",
     "exception": false,
     "start_time": "2023-11-26T15:24:27.658847",
     "status": "completed"
    },
    "tags": []
   },
   "source": [
    "## <a id = 'pack'> Packages </a>"
   ]
  },
  {
   "cell_type": "code",
   "execution_count": 49,
   "id": "fd6d9fa4",
   "metadata": {
    "execution": {
     "iopub.execute_input": "2023-11-26T15:24:27.685168Z",
     "iopub.status.busy": "2023-11-26T15:24:27.684581Z",
     "iopub.status.idle": "2023-11-26T15:24:29.592600Z",
     "shell.execute_reply": "2023-11-26T15:24:29.591721Z"
    },
    "papermill": {
     "duration": 1.920374,
     "end_time": "2023-11-26T15:24:29.595382",
     "exception": false,
     "start_time": "2023-11-26T15:24:27.675008",
     "status": "completed"
    },
    "tags": []
   },
   "outputs": [],
   "source": [
    "import numpy as np\n",
    "import pandas as pd\n",
    "from sklearn.ensemble import RandomForestRegressor\n",
    "from sklearn.metrics import mean_squared_error, mean_absolute_error\n",
    "from sklearn.model_selection import train_test_split\n",
    "import seaborn as sns\n",
    "import matplotlib.pyplot as plt\n"
   ]
  },
  {
   "cell_type": "markdown",
   "id": "dc1a0155",
   "metadata": {
    "papermill": {
     "duration": 0.007987,
     "end_time": "2023-11-26T15:24:29.611643",
     "exception": false,
     "start_time": "2023-11-26T15:24:29.603656",
     "status": "completed"
    },
    "tags": []
   },
   "source": [
    "## <a id = 'load'> Load Data </a>"
   ]
  },
  {
   "cell_type": "code",
   "execution_count": 50,
   "id": "af992771",
   "metadata": {
    "execution": {
     "iopub.execute_input": "2023-11-26T15:24:29.630270Z",
     "iopub.status.busy": "2023-11-26T15:24:29.629838Z",
     "iopub.status.idle": "2023-11-26T15:24:30.097373Z",
     "shell.execute_reply": "2023-11-26T15:24:30.096187Z"
    },
    "papermill": {
     "duration": 0.479918,
     "end_time": "2023-11-26T15:24:30.099736",
     "exception": false,
     "start_time": "2023-11-26T15:24:29.619818",
     "status": "completed"
    },
    "tags": []
   },
   "outputs": [
    {
     "name": "stdout",
     "output_type": "stream",
     "text": [
      "(33248, 21)\n"
     ]
    },
    {
     "data": {
      "text/html": [
       "<div>\n",
       "<style scoped>\n",
       "    .dataframe tbody tr th:only-of-type {\n",
       "        vertical-align: middle;\n",
       "    }\n",
       "\n",
       "    .dataframe tbody tr th {\n",
       "        vertical-align: top;\n",
       "    }\n",
       "\n",
       "    .dataframe thead th {\n",
       "        text-align: right;\n",
       "    }\n",
       "</style>\n",
       "<table border=\"1\" class=\"dataframe\">\n",
       "  <thead>\n",
       "    <tr style=\"text-align: right;\">\n",
       "      <th></th>\n",
       "      <th>ID</th>\n",
       "      <th>Job</th>\n",
       "      <th>Jobs_Group</th>\n",
       "      <th>Profile</th>\n",
       "      <th>Remote</th>\n",
       "      <th>Company</th>\n",
       "      <th>Location</th>\n",
       "      <th>City</th>\n",
       "      <th>State</th>\n",
       "      <th>Frecuency_Salary</th>\n",
       "      <th>...</th>\n",
       "      <th>Skills</th>\n",
       "      <th>Sector</th>\n",
       "      <th>Sector_Group</th>\n",
       "      <th>Revenue</th>\n",
       "      <th>Employee</th>\n",
       "      <th>Company_Score</th>\n",
       "      <th>Reviews</th>\n",
       "      <th>Director</th>\n",
       "      <th>Director_Score</th>\n",
       "      <th>URL</th>\n",
       "    </tr>\n",
       "  </thead>\n",
       "  <tbody>\n",
       "    <tr>\n",
       "      <th>32986</th>\n",
       "      <td>job_bcdf1152083e31eb</td>\n",
       "      <td>Analyst, Business Insights - Shaw Ross (Mirama...</td>\n",
       "      <td>Business Analyst</td>\n",
       "      <td>NaN</td>\n",
       "      <td>NaN</td>\n",
       "      <td>Southern Glazer’s Wine and Spirits</td>\n",
       "      <td>Miramar, FL 33027</td>\n",
       "      <td>Miramar</td>\n",
       "      <td>FL</td>\n",
       "      <td>year</td>\n",
       "      <td>...</td>\n",
       "      <td>['PowerPoint', 'Excel', 'SAP', 'Bachelor', 'Of...</td>\n",
       "      <td>Wholesale Trade</td>\n",
       "      <td>Sales</td>\n",
       "      <td>XXXL</td>\n",
       "      <td>XXXL</td>\n",
       "      <td>3.5</td>\n",
       "      <td>1650.0</td>\n",
       "      <td>Wayne Chaplin</td>\n",
       "      <td>0.73</td>\n",
       "      <td>http://southernglazers.com/careers</td>\n",
       "    </tr>\n",
       "    <tr>\n",
       "      <th>11337</th>\n",
       "      <td>job_ef6f150f4f104213</td>\n",
       "      <td>Data Engineer I- Institute for Health Equity R...</td>\n",
       "      <td>Data Engineer</td>\n",
       "      <td>NaN</td>\n",
       "      <td>NaN</td>\n",
       "      <td>Mount Sinai</td>\n",
       "      <td>New York, NY 10029 (Yorkville area)+2 ubicaciones</td>\n",
       "      <td>New York</td>\n",
       "      <td>NY</td>\n",
       "      <td>year</td>\n",
       "      <td>...</td>\n",
       "      <td>['Python', 'SQL', 'Snowflake', 'Azure', 'Bache...</td>\n",
       "      <td>Hospitals and Health Centers</td>\n",
       "      <td>Health</td>\n",
       "      <td>NaN</td>\n",
       "      <td>NaN</td>\n",
       "      <td>3.8</td>\n",
       "      <td>93.0</td>\n",
       "      <td>NaN</td>\n",
       "      <td>NaN</td>\n",
       "      <td>NaN</td>\n",
       "    </tr>\n",
       "    <tr>\n",
       "      <th>24701</th>\n",
       "      <td>job_1cdee9886174a088</td>\n",
       "      <td>Grants, Statistical Development, and Special P...</td>\n",
       "      <td>Statistician/Mathemathics</td>\n",
       "      <td>NaN</td>\n",
       "      <td>Remote</td>\n",
       "      <td>Commonwealth of PA</td>\n",
       "      <td>Pennsylvania</td>\n",
       "      <td>NaN</td>\n",
       "      <td>PA</td>\n",
       "      <td>year</td>\n",
       "      <td>...</td>\n",
       "      <td>['Office']</td>\n",
       "      <td>NaN</td>\n",
       "      <td>NaN</td>\n",
       "      <td>NaN</td>\n",
       "      <td>NaN</td>\n",
       "      <td>NaN</td>\n",
       "      <td>NaN</td>\n",
       "      <td>NaN</td>\n",
       "      <td>NaN</td>\n",
       "      <td>NaN</td>\n",
       "    </tr>\n",
       "  </tbody>\n",
       "</table>\n",
       "<p>3 rows × 21 columns</p>\n",
       "</div>"
      ],
      "text/plain": [
       "                         ID  \\\n",
       "32986  job_bcdf1152083e31eb   \n",
       "11337  job_ef6f150f4f104213   \n",
       "24701  job_1cdee9886174a088   \n",
       "\n",
       "                                                     Job  \\\n",
       "32986  Analyst, Business Insights - Shaw Ross (Mirama...   \n",
       "11337  Data Engineer I- Institute for Health Equity R...   \n",
       "24701  Grants, Statistical Development, and Special P...   \n",
       "\n",
       "                      Jobs_Group Profile  Remote  \\\n",
       "32986           Business Analyst     NaN     NaN   \n",
       "11337              Data Engineer     NaN     NaN   \n",
       "24701  Statistician/Mathemathics     NaN  Remote   \n",
       "\n",
       "                                  Company  \\\n",
       "32986  Southern Glazer’s Wine and Spirits   \n",
       "11337                         Mount Sinai   \n",
       "24701                  Commonwealth of PA   \n",
       "\n",
       "                                                Location      City State  \\\n",
       "32986                                  Miramar, FL 33027   Miramar    FL   \n",
       "11337  New York, NY 10029 (Yorkville area)+2 ubicaciones  New York    NY   \n",
       "24701                                       Pennsylvania       NaN    PA   \n",
       "\n",
       "      Frecuency_Salary  ...  \\\n",
       "32986             year  ...   \n",
       "11337             year  ...   \n",
       "24701             year  ...   \n",
       "\n",
       "                                                  Skills  \\\n",
       "32986  ['PowerPoint', 'Excel', 'SAP', 'Bachelor', 'Of...   \n",
       "11337  ['Python', 'SQL', 'Snowflake', 'Azure', 'Bache...   \n",
       "24701                                         ['Office']   \n",
       "\n",
       "                             Sector Sector_Group Revenue Employee  \\\n",
       "32986               Wholesale Trade        Sales    XXXL     XXXL   \n",
       "11337  Hospitals and Health Centers       Health     NaN      NaN   \n",
       "24701                           NaN          NaN     NaN      NaN   \n",
       "\n",
       "      Company_Score  Reviews       Director Director_Score  \\\n",
       "32986           3.5   1650.0  Wayne Chaplin           0.73   \n",
       "11337           3.8     93.0            NaN            NaN   \n",
       "24701           NaN      NaN            NaN            NaN   \n",
       "\n",
       "                                      URL  \n",
       "32986  http://southernglazers.com/careers  \n",
       "11337                                 NaN  \n",
       "24701                                 NaN  \n",
       "\n",
       "[3 rows x 21 columns]"
      ]
     },
     "execution_count": 50,
     "metadata": {},
     "output_type": "execute_result"
    }
   ],
   "source": [
    "train = pd.read_csv('usjobs_train.csv')\n",
    "print(train.shape)\n",
    "train.sample(3)"
   ]
  },
  {
   "cell_type": "code",
   "execution_count": 51,
   "id": "2064fe75",
   "metadata": {
    "execution": {
     "iopub.execute_input": "2023-11-26T15:24:30.119381Z",
     "iopub.status.busy": "2023-11-26T15:24:30.118657Z",
     "iopub.status.idle": "2023-11-26T15:24:30.404343Z",
     "shell.execute_reply": "2023-11-26T15:24:30.403215Z"
    },
    "papermill": {
     "duration": 0.298177,
     "end_time": "2023-11-26T15:24:30.406808",
     "exception": false,
     "start_time": "2023-11-26T15:24:30.108631",
     "status": "completed"
    },
    "tags": []
   },
   "outputs": [
    {
     "name": "stdout",
     "output_type": "stream",
     "text": [
      "(22166, 20)\n"
     ]
    },
    {
     "data": {
      "text/html": [
       "<div>\n",
       "<style scoped>\n",
       "    .dataframe tbody tr th:only-of-type {\n",
       "        vertical-align: middle;\n",
       "    }\n",
       "\n",
       "    .dataframe tbody tr th {\n",
       "        vertical-align: top;\n",
       "    }\n",
       "\n",
       "    .dataframe thead th {\n",
       "        text-align: right;\n",
       "    }\n",
       "</style>\n",
       "<table border=\"1\" class=\"dataframe\">\n",
       "  <thead>\n",
       "    <tr style=\"text-align: right;\">\n",
       "      <th></th>\n",
       "      <th>ID</th>\n",
       "      <th>Job</th>\n",
       "      <th>Jobs_Group</th>\n",
       "      <th>Profile</th>\n",
       "      <th>Remote</th>\n",
       "      <th>Company</th>\n",
       "      <th>Location</th>\n",
       "      <th>City</th>\n",
       "      <th>State</th>\n",
       "      <th>Frecuency_Salary</th>\n",
       "      <th>Skills</th>\n",
       "      <th>Sector</th>\n",
       "      <th>Sector_Group</th>\n",
       "      <th>Revenue</th>\n",
       "      <th>Employee</th>\n",
       "      <th>Company_Score</th>\n",
       "      <th>Reviews</th>\n",
       "      <th>Director</th>\n",
       "      <th>Director_Score</th>\n",
       "      <th>URL</th>\n",
       "    </tr>\n",
       "  </thead>\n",
       "  <tbody>\n",
       "    <tr>\n",
       "      <th>3892</th>\n",
       "      <td>job_0f9d85dbb7f6375a</td>\n",
       "      <td>Programmer Analyst I/II</td>\n",
       "      <td>Analyst</td>\n",
       "      <td>NaN</td>\n",
       "      <td>NaN</td>\n",
       "      <td>Merced County, CA</td>\n",
       "      <td>Merced County, CA+1 location</td>\n",
       "      <td>Merced County</td>\n",
       "      <td>CA</td>\n",
       "      <td>year</td>\n",
       "      <td>['SSIS']</td>\n",
       "      <td>Government and Public Administration</td>\n",
       "      <td>Government</td>\n",
       "      <td>NaN</td>\n",
       "      <td>XXL</td>\n",
       "      <td>3.6</td>\n",
       "      <td>44.0</td>\n",
       "      <td>NaN</td>\n",
       "      <td>NaN</td>\n",
       "      <td>https://www.co.merced.ca.us/</td>\n",
       "    </tr>\n",
       "    <tr>\n",
       "      <th>4433</th>\n",
       "      <td>job_33b54321f54d2b60</td>\n",
       "      <td>Data Analyst, Bureau of Early Intervention</td>\n",
       "      <td>Data Analyst</td>\n",
       "      <td>NaN</td>\n",
       "      <td>NaN</td>\n",
       "      <td>NYC Careers</td>\n",
       "      <td>Queens, NY 11101+6 ubicaciones</td>\n",
       "      <td>Queens</td>\n",
       "      <td>NY</td>\n",
       "      <td>year</td>\n",
       "      <td>['Python', 'SQL', 'Tableau', 'Office', 'R', 'V...</td>\n",
       "      <td>Government and Public Administration</td>\n",
       "      <td>Government</td>\n",
       "      <td>NaN</td>\n",
       "      <td>NaN</td>\n",
       "      <td>2.8</td>\n",
       "      <td>10.0</td>\n",
       "      <td>NaN</td>\n",
       "      <td>NaN</td>\n",
       "      <td>NaN</td>\n",
       "    </tr>\n",
       "    <tr>\n",
       "      <th>15327</th>\n",
       "      <td>job_cb935ad9d765b0ab</td>\n",
       "      <td>Financial Controller</td>\n",
       "      <td>Controller</td>\n",
       "      <td>NaN</td>\n",
       "      <td>NaN</td>\n",
       "      <td>Providence Management</td>\n",
       "      <td>Oxford, MS 38655</td>\n",
       "      <td>Oxford</td>\n",
       "      <td>MS</td>\n",
       "      <td>year</td>\n",
       "      <td>['CMA', 'CPA', 'Office', 'Bachelor']</td>\n",
       "      <td>Hospitals and Health Centers</td>\n",
       "      <td>Health</td>\n",
       "      <td>NaN</td>\n",
       "      <td>NaN</td>\n",
       "      <td>3.9</td>\n",
       "      <td>10.0</td>\n",
       "      <td>NaN</td>\n",
       "      <td>NaN</td>\n",
       "      <td>NaN</td>\n",
       "    </tr>\n",
       "  </tbody>\n",
       "</table>\n",
       "</div>"
      ],
      "text/plain": [
       "                         ID                                         Job  \\\n",
       "3892   job_0f9d85dbb7f6375a                     Programmer Analyst I/II   \n",
       "4433   job_33b54321f54d2b60  Data Analyst, Bureau of Early Intervention   \n",
       "15327  job_cb935ad9d765b0ab                        Financial Controller   \n",
       "\n",
       "         Jobs_Group Profile Remote                Company  \\\n",
       "3892        Analyst     NaN    NaN      Merced County, CA   \n",
       "4433   Data Analyst     NaN    NaN            NYC Careers   \n",
       "15327    Controller     NaN    NaN  Providence Management   \n",
       "\n",
       "                             Location           City State Frecuency_Salary  \\\n",
       "3892     Merced County, CA+1 location  Merced County    CA             year   \n",
       "4433   Queens, NY 11101+6 ubicaciones         Queens    NY             year   \n",
       "15327                Oxford, MS 38655         Oxford    MS             year   \n",
       "\n",
       "                                                  Skills  \\\n",
       "3892                                            ['SSIS']   \n",
       "4433   ['Python', 'SQL', 'Tableau', 'Office', 'R', 'V...   \n",
       "15327               ['CMA', 'CPA', 'Office', 'Bachelor']   \n",
       "\n",
       "                                     Sector Sector_Group Revenue Employee  \\\n",
       "3892   Government and Public Administration   Government     NaN      XXL   \n",
       "4433   Government and Public Administration   Government     NaN      NaN   \n",
       "15327          Hospitals and Health Centers       Health     NaN      NaN   \n",
       "\n",
       "       Company_Score  Reviews Director  Director_Score  \\\n",
       "3892             3.6     44.0      NaN             NaN   \n",
       "4433             2.8     10.0      NaN             NaN   \n",
       "15327            3.9     10.0      NaN             NaN   \n",
       "\n",
       "                                URL  \n",
       "3892   https://www.co.merced.ca.us/  \n",
       "4433                            NaN  \n",
       "15327                           NaN  "
      ]
     },
     "execution_count": 51,
     "metadata": {},
     "output_type": "execute_result"
    }
   ],
   "source": [
    "test = pd.read_csv('usjobs_test.csv')\n",
    "print(test.shape)\n",
    "test.sample(3)"
   ]
  },
  {
   "cell_type": "code",
   "execution_count": 52,
   "id": "3ffe749e",
   "metadata": {
    "execution": {
     "iopub.execute_input": "2023-11-26T15:24:30.427449Z",
     "iopub.status.busy": "2023-11-26T15:24:30.427010Z",
     "iopub.status.idle": "2023-11-26T15:24:30.471165Z",
     "shell.execute_reply": "2023-11-26T15:24:30.469972Z"
    },
    "papermill": {
     "duration": 0.058081,
     "end_time": "2023-11-26T15:24:30.474181",
     "exception": false,
     "start_time": "2023-11-26T15:24:30.416100",
     "status": "completed"
    },
    "tags": []
   },
   "outputs": [
    {
     "name": "stdout",
     "output_type": "stream",
     "text": [
      "(22166, 2)\n"
     ]
    },
    {
     "data": {
      "text/html": [
       "<div>\n",
       "<style scoped>\n",
       "    .dataframe tbody tr th:only-of-type {\n",
       "        vertical-align: middle;\n",
       "    }\n",
       "\n",
       "    .dataframe tbody tr th {\n",
       "        vertical-align: top;\n",
       "    }\n",
       "\n",
       "    .dataframe thead th {\n",
       "        text-align: right;\n",
       "    }\n",
       "</style>\n",
       "<table border=\"1\" class=\"dataframe\">\n",
       "  <thead>\n",
       "    <tr style=\"text-align: right;\">\n",
       "      <th></th>\n",
       "      <th>ID</th>\n",
       "      <th>Mean_Salary</th>\n",
       "    </tr>\n",
       "  </thead>\n",
       "  <tbody>\n",
       "    <tr>\n",
       "      <th>5182</th>\n",
       "      <td>job_8418e0bed2607a74</td>\n",
       "      <td>105000</td>\n",
       "    </tr>\n",
       "    <tr>\n",
       "      <th>21671</th>\n",
       "      <td>job_f8c890cb2d022407</td>\n",
       "      <td>105000</td>\n",
       "    </tr>\n",
       "    <tr>\n",
       "      <th>14699</th>\n",
       "      <td>job_3656a3ab718c5350</td>\n",
       "      <td>105000</td>\n",
       "    </tr>\n",
       "  </tbody>\n",
       "</table>\n",
       "</div>"
      ],
      "text/plain": [
       "                         ID  Mean_Salary\n",
       "5182   job_8418e0bed2607a74       105000\n",
       "21671  job_f8c890cb2d022407       105000\n",
       "14699  job_3656a3ab718c5350       105000"
      ]
     },
     "execution_count": 52,
     "metadata": {},
     "output_type": "execute_result"
    }
   ],
   "source": [
    "submission = pd.read_csv('usjobs_sample_submission (2).csv')\n",
    "print(submission.shape)\n",
    "submission.sample(3)"
   ]
  },
  {
   "cell_type": "markdown",
   "id": "32a5f527",
   "metadata": {
    "papermill": {
     "duration": 0.009575,
     "end_time": "2023-11-26T15:24:30.493484",
     "exception": false,
     "start_time": "2023-11-26T15:24:30.483909",
     "status": "completed"
    },
    "tags": []
   },
   "source": [
    "## <a id = 'engineer'> Engineering </a>"
   ]
  },
  {
   "cell_type": "code",
   "execution_count": 53,
   "id": "d7465e43",
   "metadata": {
    "execution": {
     "iopub.execute_input": "2023-11-26T15:24:30.515116Z",
     "iopub.status.busy": "2023-11-26T15:24:30.514670Z",
     "iopub.status.idle": "2023-11-26T15:24:30.575197Z",
     "shell.execute_reply": "2023-11-26T15:24:30.574225Z"
    },
    "papermill": {
     "duration": 0.074566,
     "end_time": "2023-11-26T15:24:30.577726",
     "exception": false,
     "start_time": "2023-11-26T15:24:30.503160",
     "status": "completed"
    },
    "tags": []
   },
   "outputs": [
    {
     "data": {
      "text/plain": [
       "ID                      0\n",
       "Job                     0\n",
       "Jobs_Group              0\n",
       "Profile             21107\n",
       "Remote              19319\n",
       "Company                 9\n",
       "Location               13\n",
       "City                 3824\n",
       "State                3112\n",
       "Frecuency_Salary        0\n",
       "Mean_Salary             0\n",
       "Skills                  0\n",
       "Sector               7214\n",
       "Sector_Group         7214\n",
       "Revenue             18318\n",
       "Employee            12799\n",
       "Company_Score        8762\n",
       "Reviews              8762\n",
       "Director            20785\n",
       "Director_Score      21924\n",
       "URL                 16033\n",
       "dtype: int64"
      ]
     },
     "execution_count": 53,
     "metadata": {},
     "output_type": "execute_result"
    }
   ],
   "source": [
    "train.isna().sum()\n",
    "\n",
    "# In summary, train.isna().sum() will return a Series showing how many missing values (NaNs) are present in each column of your training dataset."
   ]
  },
  {
   "cell_type": "code",
   "execution_count": 54,
   "id": "4c98996b",
   "metadata": {
    "execution": {
     "iopub.execute_input": "2023-11-26T15:24:30.599429Z",
     "iopub.status.busy": "2023-11-26T15:24:30.599027Z",
     "iopub.status.idle": "2023-11-26T15:24:30.610310Z",
     "shell.execute_reply": "2023-11-26T15:24:30.609406Z"
    },
    "papermill": {
     "duration": 0.02471,
     "end_time": "2023-11-26T15:24:30.612524",
     "exception": false,
     "start_time": "2023-11-26T15:24:30.587814",
     "status": "completed"
    },
    "tags": []
   },
   "outputs": [],
   "source": [
    "def rearrange_dataset(train_data, test_data):\n",
    "    #1.train \n",
    "    skills_list = []\n",
    "    for i in range(len(train_data)):\n",
    "        zip_list = train_data['Skills'][i].replace('[','').replace(']','').replace(\"'\",'').replace(\" \",'').split(',')\n",
    "        dict_temp = {}\n",
    "        str_ = ''\n",
    "        for j in range(len(zip_list)):\n",
    "            dict_temp[zip_list[j]] = 1\n",
    "            str_ += zip_list[j] + \" \"\n",
    "        dict_temp['skills_clean'] = str_    \n",
    "        skills_list.append(dict_temp)\n",
    "        \n",
    "    train_data = pd.concat([train_data,pd.DataFrame(skills_list).fillna(0)],axis =1)  \n",
    "    \n",
    "    \n",
    "    #2.test\n",
    "    skills_list = []\n",
    "    for i in range(len(test_data)):\n",
    "        zip_list = test_data['Skills'][i].replace('[','').replace(']','').replace(\"'\",'').replace(\" \",'').split(',')\n",
    "        dict_temp = {}\n",
    "        str_ = ''\n",
    "        for j in range(len(zip_list)):\n",
    "            dict_temp[zip_list[j]] = 1\n",
    "            str_ += zip_list[j] + \" \"\n",
    "        dict_temp['skills_clean'] = str_        \n",
    "        skills_list.append(dict_temp)\n",
    "        \n",
    "    test_data = pd.concat([test_data,pd.DataFrame(skills_list).fillna(0)],axis =1)      \n",
    "    \n",
    "    return train_data, test_data"
   ]
  },
  {
   "cell_type": "code",
   "execution_count": 55,
   "id": "92d890be",
   "metadata": {
    "execution": {
     "iopub.execute_input": "2023-11-26T15:24:30.634410Z",
     "iopub.status.busy": "2023-11-26T15:24:30.633634Z",
     "iopub.status.idle": "2023-11-26T15:24:33.134216Z",
     "shell.execute_reply": "2023-11-26T15:24:33.132939Z"
    },
    "papermill": {
     "duration": 2.514424,
     "end_time": "2023-11-26T15:24:33.136886",
     "exception": false,
     "start_time": "2023-11-26T15:24:30.622462",
     "status": "completed"
    },
    "tags": []
   },
   "outputs": [
    {
     "name": "stdout",
     "output_type": "stream",
     "text": [
      "CPU times: total: 78.1 ms\n",
      "Wall time: 607 ms\n"
     ]
    }
   ],
   "source": [
    "%%time\n",
    "train_data1, test_data1 = rearrange_dataset(train_data= train, test_data= test)"
   ]
  },
  {
   "cell_type": "code",
   "execution_count": 56,
   "id": "66a6eed0",
   "metadata": {
    "execution": {
     "iopub.execute_input": "2023-11-26T15:24:33.158537Z",
     "iopub.status.busy": "2023-11-26T15:24:33.158075Z",
     "iopub.status.idle": "2023-11-26T15:24:33.195116Z",
     "shell.execute_reply": "2023-11-26T15:24:33.193930Z"
    },
    "papermill": {
     "duration": 0.051195,
     "end_time": "2023-11-26T15:24:33.197840",
     "exception": false,
     "start_time": "2023-11-26T15:24:33.146645",
     "status": "completed"
    },
    "tags": []
   },
   "outputs": [
    {
     "data": {
      "text/plain": [
       "Job                           0\n",
       "Company                       9\n",
       "skills_clean                  0\n",
       "ArtificialIntelligence        0\n",
       "MachineLearning               0\n",
       "Python                        0\n",
       "TensorFlow                    0\n",
       "Excel                         0\n",
       "Spark                         0\n",
       "PhD                           0\n",
       "AWS                           0\n",
       "C++                           0\n",
       "DeepLearning                  0\n",
       "Java                          0\n",
       "Master                        0\n",
       "Office                        0\n",
       "Docker                        0\n",
       "Word                          0\n",
       "Azure                         0\n",
       "Hadoop                        0\n",
       "Airflow                       0\n",
       "MBA                           0\n",
       "CPA                           0\n",
       "Director_Score            21924\n",
       "Snowflake                     0\n",
       "Databricks                    0\n",
       "SQL                           0\n",
       "                              0\n",
       "Company_Score              8762\n",
       "GoogleCloud                   0\n",
       "SciKit                        0\n",
       "Reviews                    8762\n",
       "Pandas                        0\n",
       "ChatGPT                       0\n",
       "Agile                         0\n",
       "R                             0\n",
       "NeuralNetwork                 0\n",
       "Jupyter                       0\n",
       "PowerPoint                    0\n",
       "Spanish                       0\n",
       "NumPy                         0\n",
       "React                         0\n",
       "GitHub                        0\n",
       "Looker                        0\n",
       "English                       0\n",
       "Access                        0\n",
       "Matplotlib                    0\n",
       "Seaborn                       0\n",
       "C#                            0\n",
       "Rust                          0\n",
       "VBA                           0\n",
       "Bachelor                      0\n",
       "dtype: int64"
      ]
     },
     "execution_count": 56,
     "metadata": {},
     "output_type": "execute_result"
    }
   ],
   "source": [
    "train_data1[['Job','Company','skills_clean','ArtificialIntelligence', 'MachineLearning', 'Python', 'TensorFlow',\n",
    "       'Excel', 'Spark', 'PhD', 'AWS', 'C++', 'DeepLearning', 'Java', 'Master',\n",
    "       'Office', 'Docker', 'Word', 'Azure', 'Hadoop', 'Airflow', 'MBA', 'CPA',\n",
    "       'Director_Score', 'Snowflake', 'Databricks', 'SQL', '', 'Company_Score',\n",
    "       'GoogleCloud', 'SciKit', 'Reviews', 'Pandas', 'ChatGPT', 'Agile', 'R',\n",
    "       'NeuralNetwork', 'Jupyter', 'PowerPoint', 'Spanish', 'NumPy', 'React',\n",
    "       'GitHub', 'Looker', 'English', 'Access', 'Matplotlib', 'Seaborn', 'C#',\n",
    "       'Rust', 'VBA', 'Bachelor']].isna().sum()"
   ]
  },
  {
   "cell_type": "code",
   "execution_count": 57,
   "id": "30492c22",
   "metadata": {
    "execution": {
     "iopub.execute_input": "2023-11-26T15:24:33.219919Z",
     "iopub.status.busy": "2023-11-26T15:24:33.219449Z",
     "iopub.status.idle": "2023-11-26T15:24:33.229574Z",
     "shell.execute_reply": "2023-11-26T15:24:33.228569Z"
    },
    "papermill": {
     "duration": 0.024306,
     "end_time": "2023-11-26T15:24:33.232314",
     "exception": false,
     "start_time": "2023-11-26T15:24:33.208008",
     "status": "completed"
    },
    "tags": []
   },
   "outputs": [
    {
     "name": "stderr",
     "output_type": "stream",
     "text": [
      "C:\\Users\\Gajen\\AppData\\Local\\Temp\\ipykernel_28192\\966961151.py:1: FutureWarning: A value is trying to be set on a copy of a DataFrame or Series through chained assignment using an inplace method.\n",
      "The behavior will change in pandas 3.0. This inplace method will never work because the intermediate object on which we are setting values always behaves as a copy.\n",
      "\n",
      "For example, when doing 'df[col].method(value, inplace=True)', try using 'df.method({col: value}, inplace=True)' or df[col] = df[col].method(value) instead, to perform the operation inplace on the original object.\n",
      "\n",
      "\n",
      "  train_data1['Director_Score'].fillna(np.mean(train_data1['Director_Score']), inplace= True)\n",
      "C:\\Users\\Gajen\\AppData\\Local\\Temp\\ipykernel_28192\\966961151.py:2: FutureWarning: A value is trying to be set on a copy of a DataFrame or Series through chained assignment using an inplace method.\n",
      "The behavior will change in pandas 3.0. This inplace method will never work because the intermediate object on which we are setting values always behaves as a copy.\n",
      "\n",
      "For example, when doing 'df[col].method(value, inplace=True)', try using 'df.method({col: value}, inplace=True)' or df[col] = df[col].method(value) instead, to perform the operation inplace on the original object.\n",
      "\n",
      "\n",
      "  train_data1['Company_Score'].fillna(np.mean(train_data1['Company_Score']), inplace= True)\n",
      "C:\\Users\\Gajen\\AppData\\Local\\Temp\\ipykernel_28192\\966961151.py:3: FutureWarning: A value is trying to be set on a copy of a DataFrame or Series through chained assignment using an inplace method.\n",
      "The behavior will change in pandas 3.0. This inplace method will never work because the intermediate object on which we are setting values always behaves as a copy.\n",
      "\n",
      "For example, when doing 'df[col].method(value, inplace=True)', try using 'df.method({col: value}, inplace=True)' or df[col] = df[col].method(value) instead, to perform the operation inplace on the original object.\n",
      "\n",
      "\n",
      "  train_data1['Reviews'].fillna(np.mean(train_data1['Reviews']), inplace= True)\n"
     ]
    }
   ],
   "source": [
    "train_data1['Director_Score'].fillna(np.mean(train_data1['Director_Score']), inplace= True)\n",
    "train_data1['Company_Score'].fillna(np.mean(train_data1['Company_Score']), inplace= True)\n",
    "train_data1['Reviews'].fillna(np.mean(train_data1['Reviews']), inplace= True)"
   ]
  },
  {
   "cell_type": "markdown",
   "id": "074e8223",
   "metadata": {
    "papermill": {
     "duration": 0.009759,
     "end_time": "2023-11-26T15:24:33.252223",
     "exception": false,
     "start_time": "2023-11-26T15:24:33.242464",
     "status": "completed"
    },
    "tags": []
   },
   "source": [
    "## <a id = 'model'> Model </a>"
   ]
  },
  {
   "cell_type": "code",
   "execution_count": 58,
   "id": "a716aa2f",
   "metadata": {
    "execution": {
     "iopub.execute_input": "2023-11-26T15:24:33.277504Z",
     "iopub.status.busy": "2023-11-26T15:24:33.277058Z",
     "iopub.status.idle": "2023-11-26T15:24:33.301864Z",
     "shell.execute_reply": "2023-11-26T15:24:33.300435Z"
    },
    "papermill": {
     "duration": 0.0419,
     "end_time": "2023-11-26T15:24:33.304858",
     "exception": false,
     "start_time": "2023-11-26T15:24:33.262958",
     "status": "completed"
    },
    "tags": []
   },
   "outputs": [],
   "source": [
    "X_train, X_test, y_train, y_test = train_test_split(train_data1[['ArtificialIntelligence', 'MachineLearning', 'Python', 'TensorFlow',\n",
    "       'Excel', 'Spark', 'PhD', 'AWS', 'C++', 'DeepLearning', 'Java', 'Master',\n",
    "       'Office', 'Docker', 'Word', 'Azure', 'Hadoop', 'Airflow', 'MBA', 'CPA',\n",
    "       'Director_Score', 'Snowflake', 'Databricks', 'SQL', '', 'Company_Score',\n",
    "       'GoogleCloud', 'SciKit', 'Reviews']],\n",
    "                                                   train_data1['Mean_Salary'],\n",
    "                                                   test_size = 0.2)"
   ]
  },
  {
   "cell_type": "code",
   "execution_count": 59,
   "id": "367f63a4",
   "metadata": {
    "execution": {
     "iopub.execute_input": "2023-11-26T15:24:33.336676Z",
     "iopub.status.busy": "2023-11-26T15:24:33.335516Z",
     "iopub.status.idle": "2023-11-26T15:24:43.755126Z",
     "shell.execute_reply": "2023-11-26T15:24:43.754020Z"
    },
    "papermill": {
     "duration": 10.437607,
     "end_time": "2023-11-26T15:24:43.757888",
     "exception": false,
     "start_time": "2023-11-26T15:24:33.320281",
     "status": "completed"
    },
    "tags": []
   },
   "outputs": [
    {
     "data": {
      "text/html": [
       "<style>#sk-container-id-3 {\n",
       "  /* Definition of color scheme common for light and dark mode */\n",
       "  --sklearn-color-text: black;\n",
       "  --sklearn-color-line: gray;\n",
       "  /* Definition of color scheme for unfitted estimators */\n",
       "  --sklearn-color-unfitted-level-0: #fff5e6;\n",
       "  --sklearn-color-unfitted-level-1: #f6e4d2;\n",
       "  --sklearn-color-unfitted-level-2: #ffe0b3;\n",
       "  --sklearn-color-unfitted-level-3: chocolate;\n",
       "  /* Definition of color scheme for fitted estimators */\n",
       "  --sklearn-color-fitted-level-0: #f0f8ff;\n",
       "  --sklearn-color-fitted-level-1: #d4ebff;\n",
       "  --sklearn-color-fitted-level-2: #b3dbfd;\n",
       "  --sklearn-color-fitted-level-3: cornflowerblue;\n",
       "\n",
       "  /* Specific color for light theme */\n",
       "  --sklearn-color-text-on-default-background: var(--sg-text-color, var(--theme-code-foreground, var(--jp-content-font-color1, black)));\n",
       "  --sklearn-color-background: var(--sg-background-color, var(--theme-background, var(--jp-layout-color0, white)));\n",
       "  --sklearn-color-border-box: var(--sg-text-color, var(--theme-code-foreground, var(--jp-content-font-color1, black)));\n",
       "  --sklearn-color-icon: #696969;\n",
       "\n",
       "  @media (prefers-color-scheme: dark) {\n",
       "    /* Redefinition of color scheme for dark theme */\n",
       "    --sklearn-color-text-on-default-background: var(--sg-text-color, var(--theme-code-foreground, var(--jp-content-font-color1, white)));\n",
       "    --sklearn-color-background: var(--sg-background-color, var(--theme-background, var(--jp-layout-color0, #111)));\n",
       "    --sklearn-color-border-box: var(--sg-text-color, var(--theme-code-foreground, var(--jp-content-font-color1, white)));\n",
       "    --sklearn-color-icon: #878787;\n",
       "  }\n",
       "}\n",
       "\n",
       "#sk-container-id-3 {\n",
       "  color: var(--sklearn-color-text);\n",
       "}\n",
       "\n",
       "#sk-container-id-3 pre {\n",
       "  padding: 0;\n",
       "}\n",
       "\n",
       "#sk-container-id-3 input.sk-hidden--visually {\n",
       "  border: 0;\n",
       "  clip: rect(1px 1px 1px 1px);\n",
       "  clip: rect(1px, 1px, 1px, 1px);\n",
       "  height: 1px;\n",
       "  margin: -1px;\n",
       "  overflow: hidden;\n",
       "  padding: 0;\n",
       "  position: absolute;\n",
       "  width: 1px;\n",
       "}\n",
       "\n",
       "#sk-container-id-3 div.sk-dashed-wrapped {\n",
       "  border: 1px dashed var(--sklearn-color-line);\n",
       "  margin: 0 0.4em 0.5em 0.4em;\n",
       "  box-sizing: border-box;\n",
       "  padding-bottom: 0.4em;\n",
       "  background-color: var(--sklearn-color-background);\n",
       "}\n",
       "\n",
       "#sk-container-id-3 div.sk-container {\n",
       "  /* jupyter's `normalize.less` sets `[hidden] { display: none; }`\n",
       "     but bootstrap.min.css set `[hidden] { display: none !important; }`\n",
       "     so we also need the `!important` here to be able to override the\n",
       "     default hidden behavior on the sphinx rendered scikit-learn.org.\n",
       "     See: https://github.com/scikit-learn/scikit-learn/issues/21755 */\n",
       "  display: inline-block !important;\n",
       "  position: relative;\n",
       "}\n",
       "\n",
       "#sk-container-id-3 div.sk-text-repr-fallback {\n",
       "  display: none;\n",
       "}\n",
       "\n",
       "div.sk-parallel-item,\n",
       "div.sk-serial,\n",
       "div.sk-item {\n",
       "  /* draw centered vertical line to link estimators */\n",
       "  background-image: linear-gradient(var(--sklearn-color-text-on-default-background), var(--sklearn-color-text-on-default-background));\n",
       "  background-size: 2px 100%;\n",
       "  background-repeat: no-repeat;\n",
       "  background-position: center center;\n",
       "}\n",
       "\n",
       "/* Parallel-specific style estimator block */\n",
       "\n",
       "#sk-container-id-3 div.sk-parallel-item::after {\n",
       "  content: \"\";\n",
       "  width: 100%;\n",
       "  border-bottom: 2px solid var(--sklearn-color-text-on-default-background);\n",
       "  flex-grow: 1;\n",
       "}\n",
       "\n",
       "#sk-container-id-3 div.sk-parallel {\n",
       "  display: flex;\n",
       "  align-items: stretch;\n",
       "  justify-content: center;\n",
       "  background-color: var(--sklearn-color-background);\n",
       "  position: relative;\n",
       "}\n",
       "\n",
       "#sk-container-id-3 div.sk-parallel-item {\n",
       "  display: flex;\n",
       "  flex-direction: column;\n",
       "}\n",
       "\n",
       "#sk-container-id-3 div.sk-parallel-item:first-child::after {\n",
       "  align-self: flex-end;\n",
       "  width: 50%;\n",
       "}\n",
       "\n",
       "#sk-container-id-3 div.sk-parallel-item:last-child::after {\n",
       "  align-self: flex-start;\n",
       "  width: 50%;\n",
       "}\n",
       "\n",
       "#sk-container-id-3 div.sk-parallel-item:only-child::after {\n",
       "  width: 0;\n",
       "}\n",
       "\n",
       "/* Serial-specific style estimator block */\n",
       "\n",
       "#sk-container-id-3 div.sk-serial {\n",
       "  display: flex;\n",
       "  flex-direction: column;\n",
       "  align-items: center;\n",
       "  background-color: var(--sklearn-color-background);\n",
       "  padding-right: 1em;\n",
       "  padding-left: 1em;\n",
       "}\n",
       "\n",
       "\n",
       "/* Toggleable style: style used for estimator/Pipeline/ColumnTransformer box that is\n",
       "clickable and can be expanded/collapsed.\n",
       "- Pipeline and ColumnTransformer use this feature and define the default style\n",
       "- Estimators will overwrite some part of the style using the `sk-estimator` class\n",
       "*/\n",
       "\n",
       "/* Pipeline and ColumnTransformer style (default) */\n",
       "\n",
       "#sk-container-id-3 div.sk-toggleable {\n",
       "  /* Default theme specific background. It is overwritten whether we have a\n",
       "  specific estimator or a Pipeline/ColumnTransformer */\n",
       "  background-color: var(--sklearn-color-background);\n",
       "}\n",
       "\n",
       "/* Toggleable label */\n",
       "#sk-container-id-3 label.sk-toggleable__label {\n",
       "  cursor: pointer;\n",
       "  display: block;\n",
       "  width: 100%;\n",
       "  margin-bottom: 0;\n",
       "  padding: 0.5em;\n",
       "  box-sizing: border-box;\n",
       "  text-align: center;\n",
       "}\n",
       "\n",
       "#sk-container-id-3 label.sk-toggleable__label-arrow:before {\n",
       "  /* Arrow on the left of the label */\n",
       "  content: \"▸\";\n",
       "  float: left;\n",
       "  margin-right: 0.25em;\n",
       "  color: var(--sklearn-color-icon);\n",
       "}\n",
       "\n",
       "#sk-container-id-3 label.sk-toggleable__label-arrow:hover:before {\n",
       "  color: var(--sklearn-color-text);\n",
       "}\n",
       "\n",
       "/* Toggleable content - dropdown */\n",
       "\n",
       "#sk-container-id-3 div.sk-toggleable__content {\n",
       "  max-height: 0;\n",
       "  max-width: 0;\n",
       "  overflow: hidden;\n",
       "  text-align: left;\n",
       "  /* unfitted */\n",
       "  background-color: var(--sklearn-color-unfitted-level-0);\n",
       "}\n",
       "\n",
       "#sk-container-id-3 div.sk-toggleable__content.fitted {\n",
       "  /* fitted */\n",
       "  background-color: var(--sklearn-color-fitted-level-0);\n",
       "}\n",
       "\n",
       "#sk-container-id-3 div.sk-toggleable__content pre {\n",
       "  margin: 0.2em;\n",
       "  border-radius: 0.25em;\n",
       "  color: var(--sklearn-color-text);\n",
       "  /* unfitted */\n",
       "  background-color: var(--sklearn-color-unfitted-level-0);\n",
       "}\n",
       "\n",
       "#sk-container-id-3 div.sk-toggleable__content.fitted pre {\n",
       "  /* unfitted */\n",
       "  background-color: var(--sklearn-color-fitted-level-0);\n",
       "}\n",
       "\n",
       "#sk-container-id-3 input.sk-toggleable__control:checked~div.sk-toggleable__content {\n",
       "  /* Expand drop-down */\n",
       "  max-height: 200px;\n",
       "  max-width: 100%;\n",
       "  overflow: auto;\n",
       "}\n",
       "\n",
       "#sk-container-id-3 input.sk-toggleable__control:checked~label.sk-toggleable__label-arrow:before {\n",
       "  content: \"▾\";\n",
       "}\n",
       "\n",
       "/* Pipeline/ColumnTransformer-specific style */\n",
       "\n",
       "#sk-container-id-3 div.sk-label input.sk-toggleable__control:checked~label.sk-toggleable__label {\n",
       "  color: var(--sklearn-color-text);\n",
       "  background-color: var(--sklearn-color-unfitted-level-2);\n",
       "}\n",
       "\n",
       "#sk-container-id-3 div.sk-label.fitted input.sk-toggleable__control:checked~label.sk-toggleable__label {\n",
       "  background-color: var(--sklearn-color-fitted-level-2);\n",
       "}\n",
       "\n",
       "/* Estimator-specific style */\n",
       "\n",
       "/* Colorize estimator box */\n",
       "#sk-container-id-3 div.sk-estimator input.sk-toggleable__control:checked~label.sk-toggleable__label {\n",
       "  /* unfitted */\n",
       "  background-color: var(--sklearn-color-unfitted-level-2);\n",
       "}\n",
       "\n",
       "#sk-container-id-3 div.sk-estimator.fitted input.sk-toggleable__control:checked~label.sk-toggleable__label {\n",
       "  /* fitted */\n",
       "  background-color: var(--sklearn-color-fitted-level-2);\n",
       "}\n",
       "\n",
       "#sk-container-id-3 div.sk-label label.sk-toggleable__label,\n",
       "#sk-container-id-3 div.sk-label label {\n",
       "  /* The background is the default theme color */\n",
       "  color: var(--sklearn-color-text-on-default-background);\n",
       "}\n",
       "\n",
       "/* On hover, darken the color of the background */\n",
       "#sk-container-id-3 div.sk-label:hover label.sk-toggleable__label {\n",
       "  color: var(--sklearn-color-text);\n",
       "  background-color: var(--sklearn-color-unfitted-level-2);\n",
       "}\n",
       "\n",
       "/* Label box, darken color on hover, fitted */\n",
       "#sk-container-id-3 div.sk-label.fitted:hover label.sk-toggleable__label.fitted {\n",
       "  color: var(--sklearn-color-text);\n",
       "  background-color: var(--sklearn-color-fitted-level-2);\n",
       "}\n",
       "\n",
       "/* Estimator label */\n",
       "\n",
       "#sk-container-id-3 div.sk-label label {\n",
       "  font-family: monospace;\n",
       "  font-weight: bold;\n",
       "  display: inline-block;\n",
       "  line-height: 1.2em;\n",
       "}\n",
       "\n",
       "#sk-container-id-3 div.sk-label-container {\n",
       "  text-align: center;\n",
       "}\n",
       "\n",
       "/* Estimator-specific */\n",
       "#sk-container-id-3 div.sk-estimator {\n",
       "  font-family: monospace;\n",
       "  border: 1px dotted var(--sklearn-color-border-box);\n",
       "  border-radius: 0.25em;\n",
       "  box-sizing: border-box;\n",
       "  margin-bottom: 0.5em;\n",
       "  /* unfitted */\n",
       "  background-color: var(--sklearn-color-unfitted-level-0);\n",
       "}\n",
       "\n",
       "#sk-container-id-3 div.sk-estimator.fitted {\n",
       "  /* fitted */\n",
       "  background-color: var(--sklearn-color-fitted-level-0);\n",
       "}\n",
       "\n",
       "/* on hover */\n",
       "#sk-container-id-3 div.sk-estimator:hover {\n",
       "  /* unfitted */\n",
       "  background-color: var(--sklearn-color-unfitted-level-2);\n",
       "}\n",
       "\n",
       "#sk-container-id-3 div.sk-estimator.fitted:hover {\n",
       "  /* fitted */\n",
       "  background-color: var(--sklearn-color-fitted-level-2);\n",
       "}\n",
       "\n",
       "/* Specification for estimator info (e.g. \"i\" and \"?\") */\n",
       "\n",
       "/* Common style for \"i\" and \"?\" */\n",
       "\n",
       ".sk-estimator-doc-link,\n",
       "a:link.sk-estimator-doc-link,\n",
       "a:visited.sk-estimator-doc-link {\n",
       "  float: right;\n",
       "  font-size: smaller;\n",
       "  line-height: 1em;\n",
       "  font-family: monospace;\n",
       "  background-color: var(--sklearn-color-background);\n",
       "  border-radius: 1em;\n",
       "  height: 1em;\n",
       "  width: 1em;\n",
       "  text-decoration: none !important;\n",
       "  margin-left: 1ex;\n",
       "  /* unfitted */\n",
       "  border: var(--sklearn-color-unfitted-level-1) 1pt solid;\n",
       "  color: var(--sklearn-color-unfitted-level-1);\n",
       "}\n",
       "\n",
       ".sk-estimator-doc-link.fitted,\n",
       "a:link.sk-estimator-doc-link.fitted,\n",
       "a:visited.sk-estimator-doc-link.fitted {\n",
       "  /* fitted */\n",
       "  border: var(--sklearn-color-fitted-level-1) 1pt solid;\n",
       "  color: var(--sklearn-color-fitted-level-1);\n",
       "}\n",
       "\n",
       "/* On hover */\n",
       "div.sk-estimator:hover .sk-estimator-doc-link:hover,\n",
       ".sk-estimator-doc-link:hover,\n",
       "div.sk-label-container:hover .sk-estimator-doc-link:hover,\n",
       ".sk-estimator-doc-link:hover {\n",
       "  /* unfitted */\n",
       "  background-color: var(--sklearn-color-unfitted-level-3);\n",
       "  color: var(--sklearn-color-background);\n",
       "  text-decoration: none;\n",
       "}\n",
       "\n",
       "div.sk-estimator.fitted:hover .sk-estimator-doc-link.fitted:hover,\n",
       ".sk-estimator-doc-link.fitted:hover,\n",
       "div.sk-label-container:hover .sk-estimator-doc-link.fitted:hover,\n",
       ".sk-estimator-doc-link.fitted:hover {\n",
       "  /* fitted */\n",
       "  background-color: var(--sklearn-color-fitted-level-3);\n",
       "  color: var(--sklearn-color-background);\n",
       "  text-decoration: none;\n",
       "}\n",
       "\n",
       "/* Span, style for the box shown on hovering the info icon */\n",
       ".sk-estimator-doc-link span {\n",
       "  display: none;\n",
       "  z-index: 9999;\n",
       "  position: relative;\n",
       "  font-weight: normal;\n",
       "  right: .2ex;\n",
       "  padding: .5ex;\n",
       "  margin: .5ex;\n",
       "  width: min-content;\n",
       "  min-width: 20ex;\n",
       "  max-width: 50ex;\n",
       "  color: var(--sklearn-color-text);\n",
       "  box-shadow: 2pt 2pt 4pt #999;\n",
       "  /* unfitted */\n",
       "  background: var(--sklearn-color-unfitted-level-0);\n",
       "  border: .5pt solid var(--sklearn-color-unfitted-level-3);\n",
       "}\n",
       "\n",
       ".sk-estimator-doc-link.fitted span {\n",
       "  /* fitted */\n",
       "  background: var(--sklearn-color-fitted-level-0);\n",
       "  border: var(--sklearn-color-fitted-level-3);\n",
       "}\n",
       "\n",
       ".sk-estimator-doc-link:hover span {\n",
       "  display: block;\n",
       "}\n",
       "\n",
       "/* \"?\"-specific style due to the `<a>` HTML tag */\n",
       "\n",
       "#sk-container-id-3 a.estimator_doc_link {\n",
       "  float: right;\n",
       "  font-size: 1rem;\n",
       "  line-height: 1em;\n",
       "  font-family: monospace;\n",
       "  background-color: var(--sklearn-color-background);\n",
       "  border-radius: 1rem;\n",
       "  height: 1rem;\n",
       "  width: 1rem;\n",
       "  text-decoration: none;\n",
       "  /* unfitted */\n",
       "  color: var(--sklearn-color-unfitted-level-1);\n",
       "  border: var(--sklearn-color-unfitted-level-1) 1pt solid;\n",
       "}\n",
       "\n",
       "#sk-container-id-3 a.estimator_doc_link.fitted {\n",
       "  /* fitted */\n",
       "  border: var(--sklearn-color-fitted-level-1) 1pt solid;\n",
       "  color: var(--sklearn-color-fitted-level-1);\n",
       "}\n",
       "\n",
       "/* On hover */\n",
       "#sk-container-id-3 a.estimator_doc_link:hover {\n",
       "  /* unfitted */\n",
       "  background-color: var(--sklearn-color-unfitted-level-3);\n",
       "  color: var(--sklearn-color-background);\n",
       "  text-decoration: none;\n",
       "}\n",
       "\n",
       "#sk-container-id-3 a.estimator_doc_link.fitted:hover {\n",
       "  /* fitted */\n",
       "  background-color: var(--sklearn-color-fitted-level-3);\n",
       "}\n",
       "</style><div id=\"sk-container-id-3\" class=\"sk-top-container\"><div class=\"sk-text-repr-fallback\"><pre>RandomForestRegressor(max_depth=30, min_samples_leaf=25, n_estimators=500,\n",
       "                      n_jobs=5)</pre><b>In a Jupyter environment, please rerun this cell to show the HTML representation or trust the notebook. <br />On GitHub, the HTML representation is unable to render, please try loading this page with nbviewer.org.</b></div><div class=\"sk-container\" hidden><div class=\"sk-item\"><div class=\"sk-estimator fitted sk-toggleable\"><input class=\"sk-toggleable__control sk-hidden--visually\" id=\"sk-estimator-id-3\" type=\"checkbox\" checked><label for=\"sk-estimator-id-3\" class=\"sk-toggleable__label fitted sk-toggleable__label-arrow fitted\">&nbsp;&nbsp;RandomForestRegressor<a class=\"sk-estimator-doc-link fitted\" rel=\"noreferrer\" target=\"_blank\" href=\"https://scikit-learn.org/1.5/modules/generated/sklearn.ensemble.RandomForestRegressor.html\">?<span>Documentation for RandomForestRegressor</span></a><span class=\"sk-estimator-doc-link fitted\">i<span>Fitted</span></span></label><div class=\"sk-toggleable__content fitted\"><pre>RandomForestRegressor(max_depth=30, min_samples_leaf=25, n_estimators=500,\n",
       "                      n_jobs=5)</pre></div> </div></div></div></div>"
      ],
      "text/plain": [
       "RandomForestRegressor(max_depth=30, min_samples_leaf=25, n_estimators=500,\n",
       "                      n_jobs=5)"
      ]
     },
     "execution_count": 59,
     "metadata": {},
     "output_type": "execute_result"
    }
   ],
   "source": [
    "clf = RandomForestRegressor(n_estimators= 500,\n",
    "                            max_depth = 30,\n",
    "                            min_samples_leaf = 25,\n",
    "                           n_jobs= 5)\n",
    "\n",
    "clf.fit(X_train,\n",
    "       y_train)"
   ]
  },
  {
   "cell_type": "code",
   "execution_count": 60,
   "id": "f5e5702e",
   "metadata": {
    "execution": {
     "iopub.execute_input": "2023-11-26T15:24:43.781070Z",
     "iopub.status.busy": "2023-11-26T15:24:43.780479Z",
     "iopub.status.idle": "2023-11-26T15:24:44.066206Z",
     "shell.execute_reply": "2023-11-26T15:24:44.065067Z"
    },
    "papermill": {
     "duration": 0.300536,
     "end_time": "2023-11-26T15:24:44.069052",
     "exception": false,
     "start_time": "2023-11-26T15:24:43.768516",
     "status": "completed"
    },
    "tags": []
   },
   "outputs": [
    {
     "data": {
      "text/plain": [
       "26604.747284594734"
      ]
     },
     "execution_count": 60,
     "metadata": {},
     "output_type": "execute_result"
    }
   ],
   "source": [
    "mean_absolute_error(y_test,clf.predict(X_test))"
   ]
  },
  {
   "cell_type": "markdown",
   "id": "87995641",
   "metadata": {
    "papermill": {
     "duration": 0.011088,
     "end_time": "2023-11-26T15:24:44.093042",
     "exception": false,
     "start_time": "2023-11-26T15:24:44.081954",
     "status": "completed"
    },
    "tags": []
   },
   "source": [
    "## <a id = 'sub'> Submission </a>"
   ]
  },
  {
   "cell_type": "code",
   "execution_count": 61,
   "id": "3641390d",
   "metadata": {
    "execution": {
     "iopub.execute_input": "2023-11-26T15:24:44.121023Z",
     "iopub.status.busy": "2023-11-26T15:24:44.120374Z",
     "iopub.status.idle": "2023-11-26T15:24:44.130290Z",
     "shell.execute_reply": "2023-11-26T15:24:44.129441Z"
    },
    "papermill": {
     "duration": 0.02784,
     "end_time": "2023-11-26T15:24:44.132606",
     "exception": false,
     "start_time": "2023-11-26T15:24:44.104766",
     "status": "completed"
    },
    "tags": []
   },
   "outputs": [
    {
     "name": "stderr",
     "output_type": "stream",
     "text": [
      "C:\\Users\\Gajen\\AppData\\Local\\Temp\\ipykernel_28192\\2491048070.py:1: FutureWarning: A value is trying to be set on a copy of a DataFrame or Series through chained assignment using an inplace method.\n",
      "The behavior will change in pandas 3.0. This inplace method will never work because the intermediate object on which we are setting values always behaves as a copy.\n",
      "\n",
      "For example, when doing 'df[col].method(value, inplace=True)', try using 'df.method({col: value}, inplace=True)' or df[col] = df[col].method(value) instead, to perform the operation inplace on the original object.\n",
      "\n",
      "\n",
      "  test_data1['Director_Score'].fillna(np.mean(train_data1['Director_Score']), inplace= True)\n",
      "C:\\Users\\Gajen\\AppData\\Local\\Temp\\ipykernel_28192\\2491048070.py:2: FutureWarning: A value is trying to be set on a copy of a DataFrame or Series through chained assignment using an inplace method.\n",
      "The behavior will change in pandas 3.0. This inplace method will never work because the intermediate object on which we are setting values always behaves as a copy.\n",
      "\n",
      "For example, when doing 'df[col].method(value, inplace=True)', try using 'df.method({col: value}, inplace=True)' or df[col] = df[col].method(value) instead, to perform the operation inplace on the original object.\n",
      "\n",
      "\n",
      "  test_data1['Company_Score'].fillna(np.mean(train_data1['Company_Score']), inplace= True)\n",
      "C:\\Users\\Gajen\\AppData\\Local\\Temp\\ipykernel_28192\\2491048070.py:3: FutureWarning: A value is trying to be set on a copy of a DataFrame or Series through chained assignment using an inplace method.\n",
      "The behavior will change in pandas 3.0. This inplace method will never work because the intermediate object on which we are setting values always behaves as a copy.\n",
      "\n",
      "For example, when doing 'df[col].method(value, inplace=True)', try using 'df.method({col: value}, inplace=True)' or df[col] = df[col].method(value) instead, to perform the operation inplace on the original object.\n",
      "\n",
      "\n",
      "  test_data1['Reviews'].fillna(np.mean(train_data1['Reviews']), inplace= True)\n"
     ]
    }
   ],
   "source": [
    "test_data1['Director_Score'].fillna(np.mean(train_data1['Director_Score']), inplace= True)\n",
    "test_data1['Company_Score'].fillna(np.mean(train_data1['Company_Score']), inplace= True)\n",
    "test_data1['Reviews'].fillna(np.mean(train_data1['Reviews']), inplace= True)"
   ]
  },
  {
   "cell_type": "code",
   "execution_count": 62,
   "id": "aa60b112",
   "metadata": {
    "execution": {
     "iopub.execute_input": "2023-11-26T15:24:44.164150Z",
     "iopub.status.busy": "2023-11-26T15:24:44.163629Z",
     "iopub.status.idle": "2023-11-26T15:24:44.173148Z",
     "shell.execute_reply": "2023-11-26T15:24:44.172193Z"
    },
    "papermill": {
     "duration": 0.032889,
     "end_time": "2023-11-26T15:24:44.176050",
     "exception": false,
     "start_time": "2023-11-26T15:24:44.143161",
     "status": "completed"
    },
    "tags": []
   },
   "outputs": [],
   "source": [
    "test_df = test_data1[['ID','ArtificialIntelligence', 'MachineLearning', 'Python', 'TensorFlow',\n",
    "       'Excel', 'Spark', 'PhD', 'AWS', 'C++', 'DeepLearning', 'Java', 'Master',\n",
    "       'Office', 'Docker', 'Word', 'Azure', 'Hadoop', 'Airflow', 'MBA', 'CPA',\n",
    "       'Director_Score', 'Snowflake', 'Databricks', 'SQL', '', 'Company_Score',\n",
    "       'GoogleCloud', 'SciKit', 'Reviews']]"
   ]
  },
  {
   "cell_type": "code",
   "execution_count": 63,
   "id": "f419d1b8",
   "metadata": {
    "execution": {
     "iopub.execute_input": "2023-11-26T15:24:44.206077Z",
     "iopub.status.busy": "2023-11-26T15:24:44.205051Z",
     "iopub.status.idle": "2023-11-26T15:24:44.972720Z",
     "shell.execute_reply": "2023-11-26T15:24:44.971833Z"
    },
    "papermill": {
     "duration": 0.785118,
     "end_time": "2023-11-26T15:24:44.976031",
     "exception": false,
     "start_time": "2023-11-26T15:24:44.190913",
     "status": "completed"
    },
    "tags": []
   },
   "outputs": [],
   "source": [
    "pred = clf.predict(test_df.drop('ID', axis = 1))"
   ]
  },
  {
   "cell_type": "code",
   "execution_count": 64,
   "id": "b48c28bc",
   "metadata": {
    "execution": {
     "iopub.execute_input": "2023-11-26T15:24:45.007146Z",
     "iopub.status.busy": "2023-11-26T15:24:45.006716Z",
     "iopub.status.idle": "2023-11-26T15:24:45.013935Z",
     "shell.execute_reply": "2023-11-26T15:24:45.012584Z"
    },
    "papermill": {
     "duration": 0.025652,
     "end_time": "2023-11-26T15:24:45.016530",
     "exception": false,
     "start_time": "2023-11-26T15:24:44.990878",
     "status": "completed"
    },
    "tags": []
   },
   "outputs": [
    {
     "name": "stderr",
     "output_type": "stream",
     "text": [
      "C:\\Users\\Gajen\\AppData\\Local\\Temp\\ipykernel_28192\\1862751176.py:1: SettingWithCopyWarning: \n",
      "A value is trying to be set on a copy of a slice from a DataFrame.\n",
      "Try using .loc[row_indexer,col_indexer] = value instead\n",
      "\n",
      "See the caveats in the documentation: https://pandas.pydata.org/pandas-docs/stable/user_guide/indexing.html#returning-a-view-versus-a-copy\n",
      "  test_df['Mean_Salary'] = pred\n"
     ]
    }
   ],
   "source": [
    "test_df['Mean_Salary'] = pred"
   ]
  },
  {
   "cell_type": "code",
   "execution_count": 65,
   "id": "8a301e05",
   "metadata": {
    "execution": {
     "iopub.execute_input": "2023-11-26T15:24:45.039973Z",
     "iopub.status.busy": "2023-11-26T15:24:45.039037Z",
     "iopub.status.idle": "2023-11-26T15:24:45.157633Z",
     "shell.execute_reply": "2023-11-26T15:24:45.156770Z"
    },
    "papermill": {
     "duration": 0.133285,
     "end_time": "2023-11-26T15:24:45.160510",
     "exception": false,
     "start_time": "2023-11-26T15:24:45.027225",
     "status": "completed"
    },
    "tags": []
   },
   "outputs": [],
   "source": [
    "test_df[['ID','Mean_Salary']].to_csv('submission1.csv', index = False)"
   ]
  },
  {
   "cell_type": "code",
   "execution_count": null,
   "id": "92d51e03",
   "metadata": {
    "papermill": {
     "duration": 0.010283,
     "end_time": "2023-11-26T15:24:45.181928",
     "exception": false,
     "start_time": "2023-11-26T15:24:45.171645",
     "status": "completed"
    },
    "tags": []
   },
   "outputs": [],
   "source": []
  }
 ],
 "metadata": {
  "kaggle": {
   "accelerator": "none",
   "dataSources": [
    {
     "databundleVersionId": 7007639,
     "sourceId": 63966,
     "sourceType": "competition"
    }
   ],
   "dockerImageVersionId": 30587,
   "isGpuEnabled": false,
   "isInternetEnabled": true,
   "language": "python",
   "sourceType": "notebook"
  },
  "kernelspec": {
   "display_name": "Python 3",
   "language": "python",
   "name": "python3"
  },
  "language_info": {
   "codemirror_mode": {
    "name": "ipython",
    "version": 3
   },
   "file_extension": ".py",
   "mimetype": "text/x-python",
   "name": "python",
   "nbconvert_exporter": "python",
   "pygments_lexer": "ipython3",
   "version": "3.12.4"
  },
  "papermill": {
   "default_parameters": {},
   "duration": 22.228435,
   "end_time": "2023-11-26T15:24:45.913951",
   "environment_variables": {},
   "exception": null,
   "input_path": "__notebook__.ipynb",
   "output_path": "__notebook__.ipynb",
   "parameters": {},
   "start_time": "2023-11-26T15:24:23.685516",
   "version": "2.4.0"
  }
 },
 "nbformat": 4,
 "nbformat_minor": 5
}
